{
  "nbformat": 4,
  "nbformat_minor": 0,
  "metadata": {
    "colab": {
      "provenance": []
    },
    "kernelspec": {
      "name": "python3",
      "display_name": "Python 3"
    },
    "language_info": {
      "name": "python"
    }
  },
  "cells": [
    {
      "cell_type": "markdown",
      "source": [
        "Que1. What is object oriented programming language?\n",
        "ans.  OOP is as object oriented programming language based on the concept of\n",
        "      objects, which contains data and methods. It emphasizes code reuse,\n",
        "      inheritance, and polymorphism.\n",
        "\n",
        "Que2. What is class in oop?\n",
        "ans.  A class is a blueprint for creating objects. It defines attributes and\n",
        "      methods that the objects created from the class will have.\n",
        "\n",
        "Que3. What is an object in oop?\n",
        "ans.  An object is an instance of a class. It contains real values instead of\n",
        "      variables.\n",
        "\n",
        "Que4. What is difference between abstraction and encapsulation?\n",
        "ans.  * Abstraction hides complexity by showing only essential features.\n",
        "      * Encapsulation hides internal state by restricting direct access to some\n",
        "        components using access modifiers.\n",
        "\n",
        "Que5. What are dunder method in python?\n",
        "ans.  Dunder (double underscore) methods like __init__, __str__, __len__ are\n",
        "      special methods with double underscore used to customize class behaviour.\n",
        "\n",
        "Que6. Explain the concept of inheritance in oop?\n",
        "ans.  Inheritance allows one class (child) to inherit attributes and methods\n",
        "      from another class (parent), promoting code reuse.\n",
        "\n",
        "Que7. What is polymorphism in oop?\n",
        "ans.  Polymorphism means having the many forms. In python, it allows the same\n",
        "      method to behave differently on different objects.\n",
        "       \n",
        "Que8. How encapsulation achieved in python?\n",
        "ans.  By making variables private using _ or_ _ and using getter/ setter method\n",
        "      to access or modify them.\n",
        "\n",
        "Que9. What is a constructor in Python?\n",
        "ans.  A constructor is a special method __init__() that is automatically called\n",
        "      when an object is created.\n",
        "\n",
        "Que10. What is method overloading in python?\n",
        "ans.   Python does not support traditional method overloading. We can use\n",
        "       default arguments or variable-length arguments to stimulate it.\n",
        "\n",
        "Que11.  What are class and static methods in Python?\n",
        "ans.    class methods (@classmethod) take cls as a parameter and can modify\n",
        "        class state.\n",
        "        Static methods (@staticmethod) don't access class or instance data.\n",
        "\n",
        "Que12.  What is method overriding in OOP?\n",
        "ans.    Overriding allows a subclass to provide a specific implementation of a  \n",
        "        method already defined in its superclass.\n",
        "\n",
        "Que13.  What is a property decorator in Python?\n",
        "ans.    The @property decorator is used to make a method act like an attribute\n",
        "        (getter), often used with @<property>.setter.\n",
        "\n",
        "Que14.  Why is polymorphism important in oop?\n",
        "ans.    It promotes flexibility and reusability of code by allowing different\n",
        "        objects to be treated through a common interface.\n",
        "\n",
        "Que15.  What is an abstractor class in python?\n",
        "ans.    An abstractor class is a class that cannot be instantiated and typically\n",
        "        contains one or more abstract methods.\n",
        "\n",
        "Que16.  What are the advatange of OOP?\n",
        "ans.    * Code reuse through inheritance.\n",
        "        * Better code organization.\n",
        "        * Modularity.\n",
        "        * Easier maintenance and debugging.\n",
        "\n",
        "Que17.  What is the difference between a class variable and an instance       \n",
        "        variable?\n",
        "ans.    Class variable shared all elements.\n",
        "        Instance variable unique to each object.\n",
        "\n",
        "Que18.  What is multiple inheritance in Python?\n",
        "ans.    When a class inherits from more than one parent class. Python supports\n",
        "        it, but it can lead to the diamond problem, handled using MRO.\n",
        "\n",
        "Que19.  Explain the purpose of __str__ and __repr__ method in python?\n",
        "ans.    __str__ : Used by print() for readable string representing.\n",
        "        __repr__ : Developer friendly representation used in debugging.\n",
        "\n",
        "Que20.  What is the significance of the super() function in Python?\n",
        "ans.    super() allows access to methods of the parent class, commonly used to\n",
        "        call the parent's __init__() method.\n",
        "\n",
        "Que21.  What is the significance of the __del__ method in Python?\n",
        "ans.    __del__ is a destructor method called when an object is deleted or\n",
        "        garbage collected. It's rarely used and should be avoided.\n",
        "\n",
        "Que22.  What is difference between @staticmethod and @classmethod?\n",
        "ans.    In @staticmethod there is no access class and first arguments.Its use\n",
        "        case is in utility method.\n",
        "        In @classmethod there is a access class and have argument cls. Its use\n",
        "        case is in factory methods or class level operation.\n",
        "\n",
        "Que23.  How does polymorphism work in python with inheritance?\n",
        "ans.    * Ploymorphism allows different classes to define methods with the same\n",
        "          name.\n",
        "        * Python used method overriding to achieve this.\n",
        "        * The correct method is called depending on the object type.\n",
        "\n",
        "Que24.  What is method chaining in python OOP?\n",
        "ans.    Method chaining is calling multiple methods on the same object in a\n",
        "        single line. Each method must return self.\n",
        "\n",
        "Que25.  What is the purpose of the __call__ method in python?\n",
        "ans.    * __call__ allows an object to be called like a function.\n",
        "        * You can define custom behaviour when an object is \"called\".\n",
        "\n",
        "\n",
        "\n",
        "\n",
        "\n",
        "                      ___PRACTICAL QUESTION__\n",
        "\n",
        "\n",
        "\n",
        "Que1. Create a parent class Animal with a method speak() that prints a generic\n",
        "      message. Create a child class Dog that overrides the speak method to print\n",
        "      \"Bark!\"?"
      ],
      "metadata": {
        "id": "phnJYXXMPnbE"
      }
    },
    {
      "cell_type": "code",
      "source": [
        "class Animal:\n",
        "  def speak(self):\n",
        "    print(\"The animal makes a sound.\")\n",
        "\n",
        "class Dog(Animal):\n",
        "  def speak(self):\n",
        "    print(\"Bark!\")"
      ],
      "metadata": {
        "id": "A_3Sz07idPZi"
      },
      "execution_count": null,
      "outputs": []
    },
    {
      "cell_type": "code",
      "execution_count": null,
      "metadata": {
        "id": "flOo0T0nPgeW",
        "colab": {
          "base_uri": "https://localhost:8080/"
        },
        "outputId": "f29ece97-86d2-4fd1-fd29-167ee13612a9"
      },
      "outputs": [
        {
          "output_type": "stream",
          "name": "stdout",
          "text": [
            "The animal makes a sound.\n"
          ]
        }
      ],
      "source": [
        "obj= Animal()\n",
        "obj.speak()"
      ]
    },
    {
      "cell_type": "code",
      "source": [
        "obj1= Dog()\n",
        "obj1.speak()"
      ],
      "metadata": {
        "colab": {
          "base_uri": "https://localhost:8080/"
        },
        "id": "pQ3ic7bjeHcX",
        "outputId": "3f29bdc2-c61c-48e6-c1d5-4f543ec1802f"
      },
      "execution_count": null,
      "outputs": [
        {
          "output_type": "stream",
          "name": "stdout",
          "text": [
            "Bark!\n"
          ]
        }
      ]
    },
    {
      "cell_type": "markdown",
      "source": [
        "Que2. Write a program to create an abstract class shape with a method area().\n",
        "      Drive classes Circle and Reactangle from it and implement the area() method in both?"
      ],
      "metadata": {
        "id": "268UyMjkeUdT"
      }
    },
    {
      "cell_type": "code",
      "source": [
        "from abc import ABC, abstractmethod\n",
        "import math\n",
        "\n",
        "#Abstract class\n",
        "class shape(ABC):\n",
        "  @abstractmethod\n",
        "  def area(self):\n",
        "    pass\n",
        "\n",
        "#Circle class\n",
        "class Circle(shape):\n",
        "  def __init__(self, radius):\n",
        "    self.radius = radius\n",
        "\n",
        "  def area(self):\n",
        "    return math.pi * self.radius * self.radius\n",
        "\n",
        "#Reactangle class\n",
        "class Reactangle(shape):\n",
        "  def __init__(self, length, width):\n",
        "    self.length = length\n",
        "    self.width = width\n",
        "\n",
        "  def area(self):\n",
        "    return self.length * self.width"
      ],
      "metadata": {
        "id": "Ky3wPY77eqW7"
      },
      "execution_count": null,
      "outputs": []
    },
    {
      "cell_type": "code",
      "source": [
        "c= Circle(5)\n",
        "print(\"Area of circle\", c.area())"
      ],
      "metadata": {
        "colab": {
          "base_uri": "https://localhost:8080/"
        },
        "id": "8R_e02_AeT70",
        "outputId": "101eb464-3b29-4cc9-b59a-b17a666a2d38"
      },
      "execution_count": null,
      "outputs": [
        {
          "output_type": "stream",
          "name": "stdout",
          "text": [
            "Area of circle 78.53981633974483\n"
          ]
        }
      ]
    },
    {
      "cell_type": "code",
      "source": [
        "r= Reactangle(4, 6)\n",
        "print('Area of rectangle', r.area())"
      ],
      "metadata": {
        "colab": {
          "base_uri": "https://localhost:8080/"
        },
        "id": "3X5ipnePihww",
        "outputId": "3940bc74-e271-41c4-afc5-59d646ccfae6"
      },
      "execution_count": null,
      "outputs": [
        {
          "output_type": "stream",
          "name": "stdout",
          "text": [
            "Area of rectangle 24\n"
          ]
        }
      ]
    },
    {
      "cell_type": "markdown",
      "source": [
        "Que3. Multi-level inheritance: Vehicle Car Electriccar?\n"
      ],
      "metadata": {
        "id": "V3D5PCg0iwP3"
      }
    },
    {
      "cell_type": "code",
      "source": [
        "class vehicle:\n",
        "  def __init__(self, vehicle_type):\n",
        "    self. vehicle_type = vehicle_type\n",
        "\n",
        "class car(vehicle):\n",
        "  def __init__(self, vehicle_type, brand):\n",
        "    super(). __init__(vehicle_type)\n",
        "    self.brand = brand\n",
        "\n",
        "class electricCar(car):\n",
        "  def __init__(self, vehicle_type, brand, battery_capacity):\n",
        "    super(). __init__(vehicle_type, brand)\n",
        "    self.battery_capacity = battery_capacity\n",
        "\n",
        "e_car= electricCar(\"four wheeler\", \"tesla\", \"100kwh\")\n",
        "print(e_car.vehicle_type, e_car.brand, e_car.battery_capacity)"
      ],
      "metadata": {
        "colab": {
          "base_uri": "https://localhost:8080/"
        },
        "id": "ThdgjSLfjRqU",
        "outputId": "ef44b4d1-5198-4c7d-ca7a-3b1dafa8790c"
      },
      "execution_count": null,
      "outputs": [
        {
          "output_type": "stream",
          "name": "stdout",
          "text": [
            "four wheeler tesla 100kwh\n"
          ]
        }
      ]
    },
    {
      "cell_type": "markdown",
      "source": [
        "Que4. Polymorphism: Bird-sparrow,penguin?"
      ],
      "metadata": {
        "id": "rgm7Woh5ldJZ"
      }
    },
    {
      "cell_type": "code",
      "source": [
        "class bird:\n",
        "  def fly(self):\n",
        "    print(\"some birds can fly.\")\n",
        "\n",
        "class sparrow(bird):\n",
        "  def fly(self):\n",
        "    print(\"sparrow flies high.\")\n",
        "\n",
        "class penguin(bird):\n",
        "  def fly(self):\n",
        "    print(\"penguins cannot fly, they swim.\")\n",
        "\n",
        "\n",
        "bird = [sparrow(), penguin()]\n",
        "for bird in bird:\n",
        "  bird.fly()"
      ],
      "metadata": {
        "colab": {
          "base_uri": "https://localhost:8080/"
        },
        "id": "7OS226LDlpZT",
        "outputId": "c1959cda-e5fe-4239-cf55-62df3cb723e1"
      },
      "execution_count": null,
      "outputs": [
        {
          "output_type": "stream",
          "name": "stdout",
          "text": [
            "sparrow flies high.\n",
            "penguins cannot fly, they swim.\n"
          ]
        }
      ]
    },
    {
      "cell_type": "markdown",
      "source": [
        "Que5. Encapsulation: BankAccount?\n"
      ],
      "metadata": {
        "id": "12OxR1Nxm5fD"
      }
    },
    {
      "cell_type": "code",
      "source": [
        "class BankAccount:\n",
        "  def __init__(self, balance):\n",
        "    self.__balance = balance\n",
        "\n",
        "  def deposit(self, amount):\n",
        "    self.__balance += amount\n",
        "\n",
        "  def withdraw(self, amount):\n",
        "    if amount <= self.__balance:\n",
        "      self.__balance -= amount\n",
        "\n",
        "  def check_balance(self):\n",
        "    return self.__balance\n",
        "\n",
        "\n",
        "acc= BankAccount(50000)\n",
        "acc.deposit(500000)\n",
        "acc.withdraw(5)\n",
        "print(\"balance\", acc.check_balance())"
      ],
      "metadata": {
        "colab": {
          "base_uri": "https://localhost:8080/"
        },
        "id": "WOyly7LdnElV",
        "outputId": "a210fd9a-a855-457b-f13e-4726a94bf6bd"
      },
      "execution_count": null,
      "outputs": [
        {
          "output_type": "stream",
          "name": "stdout",
          "text": [
            "balance 549995\n"
          ]
        }
      ]
    },
    {
      "cell_type": "markdown",
      "source": [
        "Que6. Runtime Polymorphism: Instrument-Guitar, Piano?"
      ],
      "metadata": {
        "id": "g4vnsncGo4Uf"
      }
    },
    {
      "cell_type": "code",
      "source": [
        "class Instrument:\n",
        "  def play(self):\n",
        "    print(\"playing instrument\")\n",
        "\n",
        "class Guitar(Instrument):\n",
        "   def play(self):\n",
        "    print(\"playing guitar\")\n",
        "\n",
        "class Piano(Instrument):\n",
        "  def play(self):\n",
        "    print(\"playing piano\")\n",
        "\n",
        "Instrument = [Guitar(), Piano()]\n",
        "for i in Instrument:\n",
        "  i.play()"
      ],
      "metadata": {
        "colab": {
          "base_uri": "https://localhost:8080/"
        },
        "id": "qws2vy7NpFy4",
        "outputId": "5f8c7c00-1d52-4569-cc7d-70e35bfc8bf3"
      },
      "execution_count": null,
      "outputs": [
        {
          "output_type": "stream",
          "name": "stdout",
          "text": [
            "playing guitar\n",
            "playing piano\n"
          ]
        }
      ]
    },
    {
      "cell_type": "markdown",
      "source": [
        "Que7. MathOperations with class and static methods?\n"
      ],
      "metadata": {
        "id": "q5HpKw2OqaHd"
      }
    },
    {
      "cell_type": "code",
      "source": [
        "class Mathoperations:\n",
        "  @classmethod\n",
        "  def add_numbes(cls, a, b):\n",
        "    return a + b\n",
        "\n",
        "  @staticmethod\n",
        "  def subtract_numbers(a, b):\n",
        "    return a - b\n",
        "\n",
        "print(\"Addition\", Mathoperations.add_numbes(5, 988))\n",
        "print(\"substraction\", Mathoperations.subtract_numbers(456, 9))"
      ],
      "metadata": {
        "colab": {
          "base_uri": "https://localhost:8080/"
        },
        "id": "_wkpIyulq0A1",
        "outputId": "415efd9f-5180-49f1-ffa2-0943dfdbf92d"
      },
      "execution_count": null,
      "outputs": [
        {
          "output_type": "stream",
          "name": "stdout",
          "text": [
            "Addition 993\n",
            "substraction 447\n"
          ]
        }
      ]
    },
    {
      "cell_type": "markdown",
      "source": [
        "Que8. Persons class with total persons count?\n"
      ],
      "metadata": {
        "id": "t_Urm1UdbVPm"
      }
    },
    {
      "cell_type": "code",
      "source": [
        "class Persons:\n",
        "  count = 0\n",
        "\n",
        "  def __init__(self, name):\n",
        "    self.name = name\n",
        "    Persons.count +=1\n",
        "\n",
        "  @classmethod\n",
        "  def total_persons(cls):\n",
        "    return cls.count\n",
        "\n",
        "p1= Persons(\"Alice\")\n",
        "p2= Persons(\"Naina\")\n",
        "print(\"Total persons:\", Persons.total_persons())"
      ],
      "metadata": {
        "colab": {
          "base_uri": "https://localhost:8080/"
        },
        "id": "nY2mJQNGbavL",
        "outputId": "d8a2a64e-643d-4483-8fc3-0f5b81651787"
      },
      "execution_count": null,
      "outputs": [
        {
          "output_type": "stream",
          "name": "stdout",
          "text": [
            "Total persons: 2\n"
          ]
        }
      ]
    },
    {
      "cell_type": "code",
      "source": [
        "Que9. Fraction class with __str__ override?"
      ],
      "metadata": {
        "id": "X4yB0EpMivjK"
      },
      "execution_count": null,
      "outputs": []
    },
    {
      "cell_type": "code",
      "source": [
        "class Fraction:\n",
        "  def __init__(self, numerator, denominator):\n",
        "    self.numerator = numerator\n",
        "    self.denominator = denominator\n",
        "\n",
        "  def __str__(self):\n",
        "    return f\"{self.numerator}/{self.denominator}\"\n",
        "\n",
        "f= Fraction(56, 45)\n",
        "print(f)"
      ],
      "metadata": {
        "colab": {
          "base_uri": "https://localhost:8080/"
        },
        "id": "oUJxum-QctDm",
        "outputId": "53cba247-96f1-44e2-c294-e8b011b35b53"
      },
      "execution_count": null,
      "outputs": [
        {
          "output_type": "stream",
          "name": "stdout",
          "text": [
            "56/45\n"
          ]
        }
      ]
    },
    {
      "cell_type": "markdown",
      "source": [
        "Que10. Operator Overloading: Vector?"
      ],
      "metadata": {
        "id": "gCPyUDiGebDe"
      }
    },
    {
      "cell_type": "code",
      "source": [
        "class Vector:\n",
        "  def __init__(self, x, y):\n",
        "    self.x = x\n",
        "    self.y = y\n",
        "\n",
        "  def __add__(self, other):\n",
        "    return Vector(self.x + other.x, self.y + other.y)\n",
        "  def __str__(self):\n",
        "    return f\"({self.x}, {self.y})\"\n",
        "\n",
        "\n",
        "v1 = Vector(1, 2)\n",
        "v2 = Vector(3, 4)\n",
        "v3 = v1 + v2\n",
        "print(\"Resultant vector:\", v3)"
      ],
      "metadata": {
        "colab": {
          "base_uri": "https://localhost:8080/"
        },
        "id": "KSJhtpCfdmM8",
        "outputId": "47f81ed7-2e85-4b95-9e7e-b8863ff282ca"
      },
      "execution_count": null,
      "outputs": [
        {
          "output_type": "stream",
          "name": "stdout",
          "text": [
            "Resultant vector: (4, 6)\n"
          ]
        }
      ]
    },
    {
      "cell_type": "code",
      "source": [
        "class Person:\n",
        "  def __init__(self, name, age):\n",
        "    self.name = name\n",
        "    self.age = age\n",
        "\n",
        "  def greet(self):\n",
        "    print(f\"Hello, my name is {self.name} and I am {self.age} years old.\")\n",
        "\n",
        "p= Person(\"Rohan\", 34)\n",
        "p.greet()\n"
      ],
      "metadata": {
        "colab": {
          "base_uri": "https://localhost:8080/"
        },
        "id": "rG5dZWFTduuE",
        "outputId": "f802f7b7-f6b7-448a-cc35-95739843d437"
      },
      "execution_count": null,
      "outputs": [
        {
          "output_type": "stream",
          "name": "stdout",
          "text": [
            "Hello, my name is Rohan and I am 34 years old.\n"
          ]
        }
      ]
    },
    {
      "cell_type": "markdown",
      "source": [
        "Que12. Stuents class with grades and average?"
      ],
      "metadata": {
        "id": "uezBFs-fgo6S"
      }
    },
    {
      "cell_type": "code",
      "source": [
        "class Student:\n",
        "  def __init__(self, name, grades):\n",
        "    self.name = name\n",
        "    self.grades = grades\n",
        "\n",
        "  def average_grade(self):\n",
        "    return sum(self.grades)/ len(self.grades)\n",
        "\n",
        "\n",
        "s= Student(\"John\", [80, 56, 84])\n",
        "print(\"Average grade:\", s.average_grade())"
      ],
      "metadata": {
        "colab": {
          "base_uri": "https://localhost:8080/"
        },
        "id": "-ZqhsnfxgnLY",
        "outputId": "2f8f4609-7c4a-4433-8fef-4a989ca45093"
      },
      "execution_count": null,
      "outputs": [
        {
          "output_type": "stream",
          "name": "stdout",
          "text": [
            "Average grade: 73.33333333333333\n"
          ]
        }
      ]
    },
    {
      "cell_type": "markdown",
      "source": [
        "Que13. Rectangle Class - set_dimensions and area methods?\n"
      ],
      "metadata": {
        "id": "K2a8Dui10RRL"
      }
    },
    {
      "cell_type": "code",
      "source": [
        "class Rectangle:\n",
        "  def set_dimensions(self, length, width):\n",
        "    self.length = length\n",
        "    self.width = width\n",
        "\n",
        "  def area(self):\n",
        "    return self.length * self.width\n",
        "\n",
        "rect = Rectangle()\n",
        "rect.set_dimensions(65, 23)\n",
        "print(rect.area())\n"
      ],
      "metadata": {
        "colab": {
          "base_uri": "https://localhost:8080/"
        },
        "id": "DZJhOpN90h1X",
        "outputId": "98cbed50-1aeb-4403-a9a9-999c7dc5c477"
      },
      "execution_count": null,
      "outputs": [
        {
          "output_type": "stream",
          "name": "stdout",
          "text": [
            "1495\n"
          ]
        }
      ]
    },
    {
      "cell_type": "markdown",
      "source": [
        "Que14. Employee and Manager Classes- Calculate_salary method?"
      ],
      "metadata": {
        "id": "UzHmAjJy19b1"
      }
    },
    {
      "cell_type": "code",
      "source": [
        "class Employee:\n",
        "  def __init__(self, hours_worked, hourly_rate):\n",
        "    self.hours_worked = hours_worked\n",
        "    self.hourly_rate = hourly_rate\n",
        "\n",
        "  def calculate_salary(self):\n",
        "    return self.hours_worked * self.hourly_rate\n",
        "\n",
        "class Manager(Employee):\n",
        "  def __init__(self, hours_worked, hourly_rate, bonus):\n",
        "    super().__init__(hours_worked, hourly_rate)\n",
        "    self.bonus = bonus\n",
        "\n",
        "  def calculate_salary(self):\n",
        "    return super().calculate_salary() + self.bonus\n",
        "\n",
        "e= Employee(40, 30)\n",
        "print(e.calculate_salary())\n",
        "\n",
        "m= Manager(40, 20, 500)\n",
        "print(m.calculate_salary())"
      ],
      "metadata": {
        "colab": {
          "base_uri": "https://localhost:8080/"
        },
        "id": "2Pex3Qm92HtZ",
        "outputId": "f56d4fc8-0023-4a3b-d34c-e0f8b093da90"
      },
      "execution_count": null,
      "outputs": [
        {
          "output_type": "stream",
          "name": "stdout",
          "text": [
            "1200\n",
            "1300\n"
          ]
        }
      ]
    },
    {
      "cell_type": "markdown",
      "source": [
        "Que15. Product Class - total_price method?\n"
      ],
      "metadata": {
        "id": "per_Cy99hO9A"
      }
    },
    {
      "cell_type": "code",
      "source": [
        "class Product:\n",
        "  def __init__(self, name, price, quantity):\n",
        "    self.name = name\n",
        "    self.price = price\n",
        "    self.quantity = quantity\n",
        "\n",
        "  def total_price(self):\n",
        "    return self.price * self.quantity\n",
        "\n",
        "p= Product(\"pen\", 60, 12)\n",
        "print(\"Total Price:\", p.total_price())"
      ],
      "metadata": {
        "colab": {
          "base_uri": "https://localhost:8080/"
        },
        "id": "X5P0x1Hfhlgh",
        "outputId": "d557bf92-85a6-40b6-8b3b-eef3c54bda96"
      },
      "execution_count": 1,
      "outputs": [
        {
          "output_type": "stream",
          "name": "stdout",
          "text": [
            "Total Price: 720\n"
          ]
        }
      ]
    },
    {
      "cell_type": "markdown",
      "source": [
        "Que16. Animal class with sound?"
      ],
      "metadata": {
        "id": "b74cuDSujG7L"
      }
    },
    {
      "cell_type": "code",
      "source": [
        "from abc import ABC, abstractmethod\n",
        "\n",
        "class Animal(ABC):\n",
        "  @abstractmethod\n",
        "  def sound(self):\n",
        "    pass\n",
        "\n",
        "class Cow(Animal):\n",
        "  def sound(self):\n",
        "    return \"Moo\"\n",
        "\n",
        "class Sheep(Animal):\n",
        "  def sound(self):\n",
        "    return \"Baa\"\n",
        "\n",
        "c= Cow()\n",
        "s= Sheep()\n",
        "print(c.sound())\n",
        "print(s.sound())"
      ],
      "metadata": {
        "colab": {
          "base_uri": "https://localhost:8080/"
        },
        "id": "xGdJ0hZejSM3",
        "outputId": "1d86c020-2fb9-4fc2-cc69-f63b0c15e389"
      },
      "execution_count": 2,
      "outputs": [
        {
          "output_type": "stream",
          "name": "stdout",
          "text": [
            "Moo\n",
            "Baa\n"
          ]
        }
      ]
    },
    {
      "cell_type": "markdown",
      "source": [
        "Que17. Book Class - get_book_info method?\n"
      ],
      "metadata": {
        "id": "bdd9czwKkZG4"
      }
    },
    {
      "cell_type": "code",
      "source": [
        "class Book:\n",
        "  def __init__(self, title, author, year_published):\n",
        "    self.title = title\n",
        "    self.author = author\n",
        "    self.year_published = year_published\n",
        "\n",
        "  def get_book_info(self):\n",
        "    return f\"{self.title} by {self.author}, published in {self.year_published}\"\n",
        "\n",
        "b= Book(\"1999\", \"The Alien\", 1987)\n",
        "print(b.get_book_info())"
      ],
      "metadata": {
        "colab": {
          "base_uri": "https://localhost:8080/"
        },
        "id": "FPwjFM1ukjh4",
        "outputId": "c04dd2f4-62e5-4a39-de94-e0fd5a050351"
      },
      "execution_count": 3,
      "outputs": [
        {
          "output_type": "stream",
          "name": "stdout",
          "text": [
            "1999 by The Alien, published in 1987\n"
          ]
        }
      ]
    },
    {
      "cell_type": "markdown",
      "source": [
        "Que18. House And Mansion Classes?"
      ],
      "metadata": {
        "id": "TAOeArztmFTD"
      }
    },
    {
      "cell_type": "code",
      "source": [
        "class House:\n",
        "  def __init__(self, address, price):\n",
        "    self.address = address\n",
        "    self.price = price\n",
        "\n",
        "class Mansion(House):\n",
        "  def __init__(self, address, price, number_of_rooms):\n",
        "    super().__init__(address, price)\n",
        "    self.number_of_rooms = number_of_rooms\n",
        "\n",
        "m= Mansion(\"47 street\", 6000000, 80)\n",
        "print(m.address, m.price, m.number_of_rooms)"
      ],
      "metadata": {
        "id": "AOVkpoUUgoAc",
        "colab": {
          "base_uri": "https://localhost:8080/"
        },
        "outputId": "1f1f61eb-4877-4585-ad8c-90138d4817d6"
      },
      "execution_count": 4,
      "outputs": [
        {
          "output_type": "stream",
          "name": "stdout",
          "text": [
            "47 street 6000000 80\n"
          ]
        }
      ]
    },
    {
      "cell_type": "code",
      "source": [],
      "metadata": {
        "id": "wCceIaVomEAU"
      },
      "execution_count": null,
      "outputs": []
    }
  ]
}